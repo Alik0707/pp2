{
 "cells": [
  {
   "cell_type": "code",
   "execution_count": 1,
   "metadata": {},
   "outputs": [
    {
     "name": "stdout",
     "output_type": "stream",
     "text": [
      "96\n"
     ]
    }
   ],
   "source": [
    "print(100 + ~3)"
   ]
  },
  {
   "cell_type": "code",
   "execution_count": null,
   "metadata": {},
   "outputs": [],
   "source": [
    "# is \tReturns True if both variables are the same object\t x is y\t\n",
    "# is not\tReturns True if both variables are not the same object\tx is not y"
   ]
  },
  {
   "cell_type": "code",
   "execution_count": null,
   "metadata": {},
   "outputs": [],
   "source": [
    "()\t#Parentheses\t\n",
    "**\t#Exponentiation\t\n",
    "+x  -x  ~x\t#Унарный плюс, унарный минус и побитовый НЕТ\t\n",
    "*  /  //  %\t#Multiplication, division, floor division, and modulus\t\n",
    "+  -\t#Addition and subtraction\t\n",
    "<<  >>\t#Bitwise left and right shifts\t\n",
    "&\t#Bitwise AND\t\n",
    "^\t#Bitwise XOR\t\n",
    "|\t#Bitwise OR\t\n",
    "==  !=  >  >=  <  <=  ,is  ,is not , in  ,not in \t#Comparisons, identity, and membership operators\t\n",
    "not\tLogical NOT\t\n",
    "and\tAND\t\n",
    "or\tOR"
   ]
  }
 ],
 "metadata": {
  "kernelspec": {
   "display_name": "base",
   "language": "python",
   "name": "python3"
  },
  "language_info": {
   "codemirror_mode": {
    "name": "ipython",
    "version": 3
   },
   "file_extension": ".py",
   "mimetype": "text/x-python",
   "name": "python",
   "nbconvert_exporter": "python",
   "pygments_lexer": "ipython3",
   "version": "3.12.7"
  }
 },
 "nbformat": 4,
 "nbformat_minor": 2
}
