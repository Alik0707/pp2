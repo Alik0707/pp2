{
 "cells": [
  {
   "cell_type": "code",
   "execution_count": null,
   "metadata": {},
   "outputs": [],
   "source": [
    "#1 ex\n",
    "def con(gram):\n",
    "    ounces = 28.3495231 * gram\n",
    "    return ounces\n",
    "gram=float(input(\"gram:\"))\n",
    "print(\"ounces=\",con(gram))"
   ]
  },
  {
   "cell_type": "code",
   "execution_count": null,
   "metadata": {},
   "outputs": [],
   "source": [
    "#2 ex\n",
    "def temp(F):\n",
    "    C = (5 / 9) * (F - 32)\n",
    "    return C\n",
    "f = float(input(\"frongate:\"))\n",
    "print(\"Celcie:\",temp(f))"
   ]
  },
  {
   "cell_type": "code",
   "execution_count": null,
   "metadata": {},
   "outputs": [],
   "source": [
    "#3 ex\n",
    "def  solve(numheads, numlegs):\n",
    "    for i in range(1,numheads):\n",
    "        if i*2 + (numheads-i)*4 == numlegs:\n",
    "            return f\"chicken {i}, rabbits {numheads-i} \"\n",
    "\n",
    "print(solve(35, 94))"
   ]
  },
  {
   "cell_type": "code",
   "execution_count": null,
   "metadata": {},
   "outputs": [
    {
     "name": "stdout",
     "output_type": "stream",
     "text": [
      "[2, 3, 7, 89]\n"
     ]
    }
   ],
   "source": [
    "#4 ex\n",
    "def is_prime(n):\n",
    "    if n <= 1:\n",
    "        return False\n",
    "    for i in range(2, int(n**0.5) + 1):\n",
    "        if n % i == 0:\n",
    "            return False\n",
    "    return True\n",
    "\n",
    "def primelis(a):\n",
    "    primelist = []\n",
    "    for item in a:\n",
    "        if is_prime(item):\n",
    "            primelist.append(item)\n",
    "    return primelist\n",
    "\n",
    "data = input(\"input nums : \")\n",
    "listt = list(map(int,data.split()))\n",
    "print(primelis(listt))\n",
    "\n"
   ]
  },
  {
   "cell_type": "code",
   "execution_count": 3,
   "metadata": {},
   "outputs": [
    {
     "name": "stdout",
     "output_type": "stream",
     "text": [
      "a l i k \n",
      "k a l i \n",
      "i k a l \n",
      "l i k a \n"
     ]
    }
   ],
   "source": [
    "#5 ex\n",
    "def permutations(some):\n",
    "    n = len(some)\n",
    "\n",
    "    for i in range(n):\n",
    "        for j in range(n):\n",
    "            print(some[(j-i)], end=\" \")\n",
    "        print()\n",
    "k=str(input(\"word:\"))\n",
    "permutations(k)"
   ]
  },
  {
   "cell_type": "code",
   "execution_count": 11,
   "metadata": {},
   "outputs": [
    {
     "name": "stdout",
     "output_type": "stream",
     "text": [
      "is  \n",
      "alik  \n"
     ]
    }
   ],
   "source": [
    "#6 ex\n",
    "def reversew(strings):\n",
    "    strings= list(strings.split())\n",
    "    strings.reverse()\n",
    "    for i in strings:\n",
    "        print(i, \" \")\n",
    "\n",
    "a=str(input(\"sentence:\"))\n",
    "reversew(a)"
   ]
  },
  {
   "cell_type": "code",
   "execution_count": 14,
   "metadata": {},
   "outputs": [
    {
     "name": "stdout",
     "output_type": "stream",
     "text": [
      "True False\n"
     ]
    }
   ],
   "source": [
    "#7 ex\n",
    "def has_3(a):\n",
    "    for i in range(len(a) - 1):\n",
    "        if a[i] == 3 and a[i+1] == 3:\n",
    "            return True\n",
    "        \n",
    "    return False\n",
    "\n",
    "lis = [1,3,3]\n",
    "lis1 = [3,2,1,3]\n",
    "print(has_3(lis) , has_3(lis1))"
   ]
  },
  {
   "cell_type": "code",
   "execution_count": 19,
   "metadata": {},
   "outputs": [
    {
     "name": "stdout",
     "output_type": "stream",
     "text": [
      "True False False\n"
     ]
    }
   ],
   "source": [
    "#8 ex\n",
    "def spy_game(nums):\n",
    "    for i in range(len(nums) - 2):\n",
    "        if nums[i] == 0 and nums[i+1]==0 and nums[i+2]==7 :\n",
    "            return True\n",
    "    return False\n",
    "\n",
    "\n",
    "print(spy_game([1,2,4,0,0,7,5]), \n",
    "spy_game([1,0,2,4,0,5,7]), \n",
    "spy_game([1,7,2,0,4,5,0]))\n",
    "\n"
   ]
  },
  {
   "cell_type": "code",
   "execution_count": null,
   "metadata": {},
   "outputs": [],
   "source": [
    "#9 ex\n",
    "import math\n",
    "def volumespher(radius):\n",
    "    V=(4*math.pi*(radius**3))/3\n",
    "    return V\n",
    "    \n",
    "radius=float(input(\"radius:\"))\n",
    "print(volumespher(radius))"
   ]
  },
  {
   "cell_type": "code",
   "execution_count": 20,
   "metadata": {},
   "outputs": [
    {
     "name": "stdout",
     "output_type": "stream",
     "text": [
      "[2]\n"
     ]
    }
   ],
   "source": [
    "#10 ex\n",
    "def unique(mylist):\n",
    "    un = []\n",
    "    for i in mylist:\n",
    "        if mylist.count(i) == 1:\n",
    "            un.append(i)\n",
    "    return un\n",
    "\n",
    "a = int(input(\"count of el : \"))\n",
    "mylist = []\n",
    "for i in range(a):\n",
    "    number = int(input(\"number: \"))\n",
    "    mylist.append(number)\n",
    "print(unique(mylist))"
   ]
  },
  {
   "cell_type": "code",
   "execution_count": 23,
   "metadata": {},
   "outputs": [
    {
     "name": "stdout",
     "output_type": "stream",
     "text": [
      "NO\n",
      "kila\n"
     ]
    }
   ],
   "source": [
    "#11 ex\n",
    "def palindrom(text):\n",
    "    if text==text[::-1]:\n",
    "        print(\"YES\")\n",
    "    else:\n",
    "        print(\"NO\")\n",
    "\n",
    "text = input(\"text: \")\n",
    "palindrom(text)\n",
    "print(text[::-1])"
   ]
  },
  {
   "cell_type": "code",
   "execution_count": null,
   "metadata": {},
   "outputs": [],
   "source": [
    "#12 ex\n",
    "def histogram(a):\n",
    "    for i in a:\n",
    "        print(\"*\"*i)\n",
    "mylist=[4,5,7]\n",
    "histogram(mylist)"
   ]
  },
  {
   "cell_type": "code",
   "execution_count": null,
   "metadata": {},
   "outputs": [],
   "source": [
    "#13 ex\n",
    "from random import randint\n",
    "\n",
    "def guessanumber():\n",
    "    print(\"Hello! What is your name?\")\n",
    "    name = input(\"name:\")\n",
    "    print(f\"Well, {name}, I am thinking of a number between 1 and 20.\")\n",
    "    number = randint(1,20)\n",
    "    s = 0\n",
    "    flag = True\n",
    "    while flag:\n",
    "        guess = int(input(\"Take a guess: \"))\n",
    "        s+=1\n",
    "        if guess == number:\n",
    "            run = False\n",
    "            print(f\"Good job, {name}! You guessed my number in {s} guesses!\")\n",
    "            break\n",
    "        elif  guess>number:\n",
    "            print(\"Your guess is too high.\")\n",
    "        else:\n",
    "            print(\"Your guess is too low\")\n",
    "\n",
    "\n",
    "guessanumber()"
   ]
  }
 ],
 "metadata": {
  "kernelspec": {
   "display_name": "base",
   "language": "python",
   "name": "python3"
  },
  "language_info": {
   "codemirror_mode": {
    "name": "ipython",
    "version": 3
   },
   "file_extension": ".py",
   "mimetype": "text/x-python",
   "name": "python",
   "nbconvert_exporter": "python",
   "pygments_lexer": "ipython3",
   "version": "3.12.7"
  }
 },
 "nbformat": 4,
 "nbformat_minor": 2
}
