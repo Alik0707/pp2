{
 "cells": [
  {
   "cell_type": "code",
   "execution_count": null,
   "metadata": {},
   "outputs": [
    {
     "name": "stdout",
     "output_type": "stream",
     "text": [
      "SDL\n"
     ]
    }
   ],
   "source": [
    "#1 ex\n",
    "class Upper:\n",
    "    def __init__(s):\n",
    "        s.n = \"\"\n",
    "    def getString(s):\n",
    "        s.n =input()\n",
    "    def printString(s):\n",
    "        print(s.n.upper())\n",
    "u = Upper()\n",
    "u.getString()\n",
    "u.printString()"
   ]
  },
  {
   "cell_type": "code",
   "execution_count": 10,
   "metadata": {},
   "outputs": [
    {
     "name": "stdout",
     "output_type": "stream",
     "text": [
      "0\n",
      "Area: 16\n"
     ]
    }
   ],
   "source": [
    "#2 ex\n",
    "class Shape:\n",
    "    def __init__(self):\n",
    "        self.area = 0\n",
    "\n",
    "    def printstr(self):\n",
    "        print(self.area)\n",
    "        \n",
    "class Square(Shape):\n",
    "    def __init__(self):\n",
    "        super().__init__()\n",
    "        \n",
    "    def getLength(self):\n",
    "        self.length = int(input(\"Side: \"))\n",
    "    def calculateArea(self):\n",
    "        self.area = self.length * self.length\n",
    "        return self.area\n",
    "a = Shape()\n",
    "a.printstr()\n",
    "\n",
    "a = Square()\n",
    "a.getLength()\n",
    "print(\"Area:\", a.calculateArea())"
   ]
  },
  {
   "cell_type": "code",
   "execution_count": 16,
   "metadata": {},
   "outputs": [
    {
     "name": "stdout",
     "output_type": "stream",
     "text": [
      "0\n",
      "Area: 16\n"
     ]
    }
   ],
   "source": [
    "#3 ex\n",
    "class Shape:\n",
    "    def __init__(self):\n",
    "        self.area = 0\n",
    "\n",
    "    def printstr(self):\n",
    "        print(self.area)\n",
    "        \n",
    "class Rectangle(Shape):\n",
    "    def __init__(self,length=0, width=0):\n",
    "        super().__init__()\n",
    "        self.length = length\n",
    "        self.width = width\n",
    "\n",
    "    def get(self):\n",
    "        self.length = int(input(\"Side: \"))\n",
    "        self.width = int(input(\"another side: \"))\n",
    "\n",
    "    def calculateArea(self):\n",
    "        self.area = self.length * self.width\n",
    "        return self.area\n",
    "a = Shape()\n",
    "a.printstr()\n",
    "\n",
    "b = Rectangle()\n",
    "b.get()\n",
    "print(\"Area:\", b.calculateArea())"
   ]
  },
  {
   "cell_type": "code",
   "execution_count": 24,
   "metadata": {},
   "outputs": [
    {
     "name": "stdout",
     "output_type": "stream",
     "text": [
      "Point coord:(2,3)\n",
      "5.0\n"
     ]
    }
   ],
   "source": [
    "#4 ex\n",
    "from math import *\n",
    "class Point:\n",
    "    def __init__(self,x,y):\n",
    "        self.x = x\n",
    "        self.y = y\n",
    "    def show(self):\n",
    "        print(f\"Point coord:({self.x},{self.y})\")\n",
    "    def move(self):\n",
    "        self.x = int(input(\"coord x\"))\n",
    "        self.y = int(input(\"coord y\"))\n",
    "    def dist(self,another):\n",
    "        return sqrt((self.x -  another.x) ** 2 + (self.y - another.y) ** 2)\n",
    "    \n",
    "a = Point(2,3)\n",
    "b = Point(6,6)\n",
    "a.show()\n",
    "a.move()\n",
    "print(a.dist(b))\n",
    "    \n"
   ]
  },
  {
   "cell_type": "code",
   "execution_count": 25,
   "metadata": {},
   "outputs": [
    {
     "name": "stdout",
     "output_type": "stream",
     "text": [
      "1000\n",
      "Alik\n",
      "You are deposit 1000 money\n",
      "insufficient funds\n",
      "you're balance: 0,  and you brought it out 2000\n"
     ]
    }
   ],
   "source": [
    "#5 ex\n",
    "class Bank():\n",
    "    def __init__(self, account, money):\n",
    "        self.money = money\n",
    "        self.account = account\n",
    "\n",
    "    def balance(self):\n",
    "        return self.money\n",
    "    \n",
    "    def owner(self):\n",
    "        return self.account\n",
    "    \n",
    "    def deposit(self, moneyfordep ):\n",
    "        self.money+=moneyfordep\n",
    "\n",
    "        return f\"You are deposit {moneyfordep} money\"\n",
    "    \n",
    "    def withdraw(self, moneyout):\n",
    "        if self.money - moneyout < 0:\n",
    "            return \"insufficient funds\"\n",
    "        else:\n",
    "            self.money-=moneyout\n",
    "\n",
    "            return f\"you're balance: {self.money},  and you brought it out {moneyout}\"\n",
    "        \n",
    "        \n",
    "bank = Bank(\"Alik\", 1000)\n",
    "\n",
    "print(bank.balance())\n",
    "\n",
    "print(bank.owner())\n",
    "\n",
    "print(bank.deposit(1000))\n",
    "\n",
    "print(bank.withdraw(2500))\n",
    "\n",
    "print(bank.withdraw(2000))"
   ]
  },
  {
   "cell_type": "code",
   "execution_count": 3,
   "metadata": {},
   "outputs": [
    {
     "name": "stdout",
     "output_type": "stream",
     "text": [
      "[2, 3, 5]\n"
     ]
    }
   ],
   "source": [
    "#6 ex\n",
    "def isprime(a):\n",
    "    if a < 2:\n",
    "        return False\n",
    "    elif a == 2 : \n",
    "        return True\n",
    "    else:\n",
    "        for i in range(2,a):\n",
    "            if a%i == 0:\n",
    "                return False\n",
    "        return True\n",
    "mylist = [1,2,3,5,6,4,48,6,9,456]\n",
    "myprimelist = list(filter(lambda x: isprime(x),mylist))\n",
    "print(myprimelist)"
   ]
  }
 ],
 "metadata": {
  "kernelspec": {
   "display_name": "base",
   "language": "python",
   "name": "python3"
  },
  "language_info": {
   "codemirror_mode": {
    "name": "ipython",
    "version": 3
   },
   "file_extension": ".py",
   "mimetype": "text/x-python",
   "name": "python",
   "nbconvert_exporter": "python",
   "pygments_lexer": "ipython3",
   "version": "3.12.7"
  }
 },
 "nbformat": 4,
 "nbformat_minor": 2
}
