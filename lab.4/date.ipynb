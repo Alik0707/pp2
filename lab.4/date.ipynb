{
 "cells": [
  {
   "cell_type": "code",
   "execution_count": null,
   "metadata": {},
   "outputs": [
    {
     "name": "stdout",
     "output_type": "stream",
     "text": [
      "2025-02-09 10:55:08.039456\n"
     ]
    }
   ],
   "source": [
    "#ex1\n",
    "from datetime import datetime, timedelta\n",
    "\n",
    "today = datetime.today()\n",
    "result = today - timedelta(5)\n",
    "\n",
    "print(result)"
   ]
  },
  {
   "cell_type": "code",
   "execution_count": null,
   "metadata": {},
   "outputs": [
    {
     "name": "stdout",
     "output_type": "stream",
     "text": [
      "2025-02-14 10:55:34.559738 2025-02-13 10:55:34.559738 2025-02-15 10:55:34.559738\n"
     ]
    }
   ],
   "source": [
    "#ex2\n",
    "tod = datetime.now()\n",
    "yest = tod - timedelta(1)\n",
    "tomor = tod + timedelta(1) \n",
    "print(tod,yest,tomor)"
   ]
  },
  {
   "cell_type": "code",
   "execution_count": 15,
   "metadata": {},
   "outputs": [
    {
     "name": "stdout",
     "output_type": "stream",
     "text": [
      "2025-02-14 10:55:08\n"
     ]
    }
   ],
   "source": [
    "#ex3\n",
    "res = today.replace(microsecond=0)\n",
    "print(res)"
   ]
  },
  {
   "cell_type": "code",
   "execution_count": 33,
   "metadata": {},
   "outputs": [
    {
     "name": "stdout",
     "output_type": "stream",
     "text": [
      "86521.0\n"
     ]
    }
   ],
   "source": [
    "#ex4\n",
    "d1 = datetime(2025, 2, 12, 14, 30, 1) \n",
    "d2 = datetime(2025, 2, 11, 14, 28, 0)\n",
    "result = d1 - d2\n",
    "print(result.total_seconds())"
   ]
  }
 ],
 "metadata": {
  "kernelspec": {
   "display_name": "base",
   "language": "python",
   "name": "python3"
  },
  "language_info": {
   "codemirror_mode": {
    "name": "ipython",
    "version": 3
   },
   "file_extension": ".py",
   "mimetype": "text/x-python",
   "name": "python",
   "nbconvert_exporter": "python",
   "pygments_lexer": "ipython3",
   "version": "3.12.7"
  }
 },
 "nbformat": 4,
 "nbformat_minor": 2
}
