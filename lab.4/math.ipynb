{
 "cells": [
  {
   "cell_type": "code",
   "execution_count": null,
   "metadata": {},
   "outputs": [
    {
     "name": "stdout",
     "output_type": "stream",
     "text": [
      "0.2617993877991494\n"
     ]
    }
   ],
   "source": [
    "#ex 1\n",
    "from math import *\n",
    "a = int(input(\"Input degree:\"))\n",
    "print(radians(a))\n"
   ]
  },
  {
   "cell_type": "code",
   "execution_count": null,
   "metadata": {},
   "outputs": [
    {
     "name": "stdout",
     "output_type": "stream",
     "text": [
      "27.5\n"
     ]
    }
   ],
   "source": [
    "#ex2\n",
    "h = int(input(\"Height:\"))\n",
    "b1 = int(input(\"Base, first value:\"))\n",
    "b2 = int(input(\"Base, second value:\"))\n",
    "res = float((h*(b1+b2))/2)\n",
    "print(res)"
   ]
  },
  {
   "cell_type": "code",
   "execution_count": null,
   "metadata": {},
   "outputs": [
    {
     "name": "stdout",
     "output_type": "stream",
     "text": [
      "625.0\n"
     ]
    }
   ],
   "source": [
    "#ex3\n",
    "n = int(input(\"Input number of sides:\"))\n",
    "l = int(input(\"Input the length of a side:\"))\n",
    "an = radians(float(180/n))\n",
    "S = ((n*l**2)/4)*(cos(an)/sin(an))\n",
    "print(S) "
   ]
  },
  {
   "cell_type": "code",
   "execution_count": null,
   "metadata": {},
   "outputs": [
    {
     "name": "stdout",
     "output_type": "stream",
     "text": [
      "30.0\n"
     ]
    }
   ],
   "source": [
    "#ex4\n",
    "l = float(input(\"Length of base:\"))\n",
    "h = float(input(\"Height of parallelogram:\"))\n",
    "print(float(l*h))"
   ]
  }
 ],
 "metadata": {
  "kernelspec": {
   "display_name": "base",
   "language": "python",
   "name": "python3"
  },
  "language_info": {
   "codemirror_mode": {
    "name": "ipython",
    "version": 3
   },
   "file_extension": ".py",
   "mimetype": "text/x-python",
   "name": "python",
   "nbconvert_exporter": "python",
   "pygments_lexer": "ipython3",
   "version": "3.12.7"
  }
 },
 "nbformat": 4,
 "nbformat_minor": 2
}
