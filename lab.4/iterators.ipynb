{
 "cells": [
  {
   "cell_type": "code",
   "execution_count": 2,
   "metadata": {},
   "outputs": [
    {
     "name": "stdout",
     "output_type": "stream",
     "text": [
      "1\n",
      "4\n",
      "9\n",
      "16\n",
      "25\n",
      "36\n",
      "49\n"
     ]
    }
   ],
   "source": [
    "#ex1\n",
    "n = int(input(\"N:\"))\n",
    "\n",
    "def gen(n):\n",
    "    a = 0\n",
    "    while a < n:\n",
    "        a +=1\n",
    "        yield a**2\n",
    "\n",
    "ev = gen(n)\n",
    "for i in ev:\n",
    "    print(i)\n"
   ]
  },
  {
   "cell_type": "code",
   "execution_count": null,
   "metadata": {},
   "outputs": [],
   "source": [
    "#ex2\n",
    "n = int(input(\"N:\"))\n",
    "\n",
    "def even(n):\n",
    "    a = 2\n",
    "    while a < n:\n",
    "        yield a\n",
    "        a += 2\n",
    "        \n",
    "for i in even(n):\n",
    "    print(i)"
   ]
  },
  {
   "cell_type": "code",
   "execution_count": null,
   "metadata": {},
   "outputs": [],
   "source": [
    "#ex3\n",
    "n= int(input(\"N:\"))\n",
    "\n",
    "def com(n):\n",
    "    a = 12\n",
    "    if n < 12:\n",
    "        print(\"There is no such numbers\")\n",
    "    elif n >= 12:\n",
    "        while a < n:\n",
    "            if a%3 == 0 and a%4 == 0:\n",
    "                yield a\n",
    "            a += 3\n",
    "\n",
    "for i in com(n):\n",
    "    print(i)\n",
    "        "
   ]
  },
  {
   "cell_type": "code",
   "execution_count": 4,
   "metadata": {},
   "outputs": [
    {
     "name": "stdout",
     "output_type": "stream",
     "text": [
      "16\n",
      "25\n",
      "36\n",
      "49\n",
      "64\n",
      "81\n",
      "100\n",
      "121\n",
      "144\n",
      "169\n",
      "196\n",
      "225\n",
      "256\n",
      "289\n",
      "324\n",
      "361\n",
      "400\n",
      "441\n",
      "484\n",
      "529\n",
      "576\n",
      "625\n",
      "676\n",
      "729\n",
      "784\n",
      "841\n",
      "900\n",
      "961\n",
      "1024\n",
      "1089\n",
      "1156\n",
      "1225\n",
      "1296\n",
      "1369\n",
      "1444\n",
      "1521\n",
      "1600\n",
      "1681\n",
      "1764\n",
      "1849\n",
      "1936\n",
      "2025\n"
     ]
    }
   ],
   "source": [
    "#ex4\n",
    "a = int(input(\"a:\"))\n",
    "b = int(input(\"b:\"))\n",
    "\n",
    "def squares(a,b):\n",
    "    for i in range(a,b+1):\n",
    "        yield i**2\n",
    "        i+=1\n",
    "for i in squares(a,b):\n",
    "    print(i)"
   ]
  },
  {
   "cell_type": "code",
   "execution_count": 6,
   "metadata": {},
   "outputs": [
    {
     "name": "stdout",
     "output_type": "stream",
     "text": [
      "7\n",
      "6\n",
      "5\n",
      "4\n",
      "3\n",
      "2\n",
      "1\n",
      "0\n"
     ]
    }
   ],
   "source": [
    "n = int(input(\"N:\"))\n",
    "\n",
    "def down(n):\n",
    "    while n >= 0:\n",
    "        yield n\n",
    "        n -= 1\n",
    "\n",
    "for i in down(n):\n",
    "    print(i)"
   ]
  }
 ],
 "metadata": {
  "kernelspec": {
   "display_name": "base",
   "language": "python",
   "name": "python3"
  },
  "language_info": {
   "codemirror_mode": {
    "name": "ipython",
    "version": 3
   },
   "file_extension": ".py",
   "mimetype": "text/x-python",
   "name": "python",
   "nbconvert_exporter": "python",
   "pygments_lexer": "ipython3",
   "version": "3.12.7"
  }
 },
 "nbformat": 4,
 "nbformat_minor": 2
}
